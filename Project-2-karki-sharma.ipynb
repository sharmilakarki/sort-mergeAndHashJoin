{
 "cells": [
  {
   "cell_type": "code",
   "execution_count": 1,
   "id": "75bb7675-1a4f-4a93-bed7-cedabf9cb26f",
   "metadata": {},
   "outputs": [],
   "source": [
    "import hashlib\n",
    "import time\n",
    "import pandas as pd\n",
    "import numpy as np\n",
    "#pd.set_option('display.max_rows', None)\n",
    "#pd.options.mode.chained_assignment = None  # default='warn'\n"
   ]
  },
  {
   "cell_type": "code",
   "execution_count": 2,
   "id": "78aa1194-5f3f-4bd2-9434-9f5e270a2f5b",
   "metadata": {
    "tags": []
   },
   "outputs": [],
   "source": [
    "#a)Pre-process the data\n",
    "#Fetch subject, object and property and process the data\n",
    "def preProcessData(dataF):\n",
    "    dataF[0] = dataF[0].split(\":\")[1].strip()\n",
    "    dataF[1] = dataF[1].split(\":\")[1].strip()\n",
    "    dataF[2] = dataF[2].split(\":\")[1][:-1].strip() if len(dataF[2].split(\":\"))>1 else dataF[2][:-1].strip()\n",
    "    return dataF"
   ]
  },
  {
   "cell_type": "code",
   "execution_count": 3,
   "id": "5c9fc813-6908-4486-8f3a-beb6b2cf5b71",
   "metadata": {
    "tags": []
   },
   "outputs": [],
   "source": [
    "#Read '100k.txt' file into a pandas dataframe\n",
    "raw100kDF = pd.read_csv(\"DataSet/100k.txt\", header = None, \n",
    "                     sep=\"\\t\", \n",
    "                     quotechar='\"', \n",
    "                     skipinitialspace=True, \n",
    "                     names=['subject','property','object'])\n",
    "\n",
    "raw100kDF = raw100kDF.apply(preProcessData, axis=1)\n",
    "\n",
    "#raw100kDF.info()"
   ]
  },
  {
   "cell_type": "code",
   "execution_count": 4,
   "id": "bb7ce657-db4c-4057-b7c6-45df8b36516b",
   "metadata": {
    "tags": []
   },
   "outputs": [],
   "source": [
    "#b)Design and implement hash join and sort-merge join algorithms for the query evaluation\n",
    "# dictionaryDF is a dictionary of dataframes with \n",
    "# key: property name, value: dataframe with subject, property and object for a given property\n",
    "dictionaryDF = dict(tuple(raw100kDF.groupby('property', as_index=False)))\n",
    "\n",
    "# Remove the \"property\" column from every dataframe is the dictionary dataframes\n",
    "for key in dictionaryDF:\n",
    "    dictionaryDF[key] = dictionaryDF[key].drop(\"property\", axis=1)\n",
    "    dictionaryDF[key].reset_index(drop = True, inplace = True)\n"
   ]
  },
  {
   "cell_type": "code",
   "execution_count": 5,
   "id": "b30911c8-0593-4848-940d-0f5fbae1679a",
   "metadata": {
    "tags": []
   },
   "outputs": [],
   "source": [
    "#Function to do sort merge join based on keys\n",
    "def sortMergeJoin(dataF1, key1, dataF2, key2):\n",
    "    #Perform sorting based on the keys\n",
    "    sortDataF1OnKey1 = dataF1.sort_values(by=key1, ascending=True)\n",
    "    sortDataF2OnKey2 = dataF2.sort_values(by=key2, ascending=True)\n",
    "    \n",
    "    mergedDF = pd.merge(sortDataF1OnKey1, sortDataF2OnKey2, left_on=key1, right_on=key2, how='inner')\n",
    "    return mergedDF    "
   ]
  },
  {
   "cell_type": "code",
   "execution_count": 6,
   "id": "745c8d1a-859e-4418-a796-813989483930",
   "metadata": {
    "tags": []
   },
   "outputs": [],
   "source": [
    "#The sort-merge join merge results\n",
    "startTime = time.time()\n",
    "#sort merge join with two dataframew with different keys passed as params\n",
    "followsObjectAndFriendOfSubject_SMJDF = sortMergeJoin(dictionaryDF[\"follows\"],\"object\",dictionaryDF[\"friendOf\"],\"subject\")\n",
    "\n",
    "likesObjectAndHasReviewSubject_SMJDF = sortMergeJoin(dictionaryDF[\"likes\"],\"object\",dictionaryDF[\"hasReview\"],\"subject\")\n",
    "\n",
    "friendsOfObjectAndLikesSubject_SMJDF = sortMergeJoin(followsObjectAndFriendOfSubject_SMJDF,\"object_y\",likesObjectAndHasReviewSubject_SMJDF,\"subject_x\")\n",
    "\n",
    "sortMergeJoinQueryResultDF = friendsOfObjectAndLikesSubject_SMJDF.loc[:,(\"subject_x_x\",\"object_x_x\", \"object_y_x\",\"object_x_y\",\"object_y_y\")]\n",
    "\n",
    "sortMergeJoinQueryResultDF.rename(columns = {'subject_x_x':'Follows Subject',\n",
    "                                       'object_x_x':'Follows Object',\n",
    "                                       'object_y_x':'FriendOf Object',\n",
    "                                       'object_x_y':'Likes Object',\n",
    "                                       'object_y_y':' HasReview Object'}, inplace = True)\n",
    "\n",
    "endTime = time.time()"
   ]
  },
  {
   "cell_type": "markdown",
   "id": "2291ea86-3781-4796-a134-01c073ac1e21",
   "metadata": {},
   "source": [
    "Sort-Merge Join Time cost"
   ]
  },
  {
   "cell_type": "code",
   "execution_count": 7,
   "id": "2adc3fa4-c6fe-4770-9f76-00477a1246b7",
   "metadata": {
    "tags": []
   },
   "outputs": [
    {
     "name": "stdout",
     "output_type": "stream",
     "text": [
      "The execution time cost for the sort-merge join is 0.731783390045166 seconds\n"
     ]
    }
   ],
   "source": [
    "print(\"The execution time cost for the sort-merge join is %s seconds\" %(endTime- startTime))\n"
   ]
  },
  {
   "cell_type": "code",
   "execution_count": 8,
   "id": "44def0fe-898f-4ee7-a60d-593925fe6268",
   "metadata": {
    "tags": []
   },
   "outputs": [
    {
     "data": {
      "text/html": [
       "<div>\n",
       "<style scoped>\n",
       "    .dataframe tbody tr th:only-of-type {\n",
       "        vertical-align: middle;\n",
       "    }\n",
       "\n",
       "    .dataframe tbody tr th {\n",
       "        vertical-align: top;\n",
       "    }\n",
       "\n",
       "    .dataframe thead th {\n",
       "        text-align: right;\n",
       "    }\n",
       "</style>\n",
       "<table border=\"1\" class=\"dataframe\">\n",
       "  <thead>\n",
       "    <tr style=\"text-align: right;\">\n",
       "      <th></th>\n",
       "      <th>Follows Subject</th>\n",
       "      <th>Follows Object</th>\n",
       "      <th>FriendOf Object</th>\n",
       "      <th>Likes Object</th>\n",
       "      <th>HasReview Object</th>\n",
       "    </tr>\n",
       "  </thead>\n",
       "  <tbody>\n",
       "    <tr>\n",
       "      <th>0</th>\n",
       "      <td>User141</td>\n",
       "      <td>User453</td>\n",
       "      <td>User104</td>\n",
       "      <td>Product0</td>\n",
       "      <td>Review606</td>\n",
       "    </tr>\n",
       "    <tr>\n",
       "      <th>1</th>\n",
       "      <td>User141</td>\n",
       "      <td>User453</td>\n",
       "      <td>User104</td>\n",
       "      <td>Product0</td>\n",
       "      <td>Review48</td>\n",
       "    </tr>\n",
       "    <tr>\n",
       "      <th>2</th>\n",
       "      <td>User141</td>\n",
       "      <td>User453</td>\n",
       "      <td>User104</td>\n",
       "      <td>Product0</td>\n",
       "      <td>Review118</td>\n",
       "    </tr>\n",
       "    <tr>\n",
       "      <th>3</th>\n",
       "      <td>User141</td>\n",
       "      <td>User453</td>\n",
       "      <td>User104</td>\n",
       "      <td>Product0</td>\n",
       "      <td>Review215</td>\n",
       "    </tr>\n",
       "    <tr>\n",
       "      <th>4</th>\n",
       "      <td>User141</td>\n",
       "      <td>User453</td>\n",
       "      <td>User104</td>\n",
       "      <td>Product0</td>\n",
       "      <td>Review247</td>\n",
       "    </tr>\n",
       "  </tbody>\n",
       "</table>\n",
       "</div>"
      ],
      "text/plain": [
       "  Follows Subject Follows Object FriendOf Object Likes Object   \n",
       "0         User141        User453         User104     Product0  \\\n",
       "1         User141        User453         User104     Product0   \n",
       "2         User141        User453         User104     Product0   \n",
       "3         User141        User453         User104     Product0   \n",
       "4         User141        User453         User104     Product0   \n",
       "\n",
       "   HasReview Object  \n",
       "0         Review606  \n",
       "1          Review48  \n",
       "2         Review118  \n",
       "3         Review215  \n",
       "4         Review247  "
      ]
     },
     "execution_count": 8,
     "metadata": {},
     "output_type": "execute_result"
    }
   ],
   "source": [
    "sortMergeJoinQueryResultDF.head()"
   ]
  },
  {
   "cell_type": "code",
   "execution_count": 9,
   "id": "3e518e6a-8ebf-44e6-b2ea-073af428d090",
   "metadata": {
    "tags": []
   },
   "outputs": [],
   "source": [
    "#Hash-Join function based on keys\n",
    "def hashJoin(dataF1, key1, dataF2, key2):\n",
    "    dataF1[\"hashKEY\"] = dataF1[key1].apply(hash)\n",
    "    dataF2[\"hashKEY\"] = dataF2[key2].apply(hash)\n",
    "    #group by hashKEY. on data frame 1\n",
    "    dataF1Partitions = dict(tuple(dataF1.groupby('hashKEY')))\n",
    "    for key in dataF1Partitions:\n",
    "        #reset index to perform correct merge\n",
    "        dataF1Partitions[key].reset_index(drop = True, inplace = True)\n",
    "    \n",
    "    dictKeys = dataF1Partitions.keys()\n",
    "    outputAsList = []\n",
    "    \n",
    "    for i in range(len(dataF2)):\n",
    "        if (dataF2.iloc[i]['hashKEY']) in dictKeys:\n",
    "            key = dataF2.iloc[i]['hashKEY']\n",
    "            joinRow = dataF2.iloc[[i]]\n",
    "            #perform left join on 'hash_key' with dataF1Partitions and joinRow\n",
    "            mergedRow = pd.merge(dataF1Partitions[key],joinRow, on='hashKEY',  how='left')\n",
    "            outputAsList.append(mergedRow.to_dict('list'))\n",
    "    \n",
    "    joinedPartitionList = []\n",
    "    for dictionary in outputAsList:\n",
    "        joinedPartitionList.append(pd.DataFrame(dictionary))\n",
    "    \n",
    "    resultDF = pd.concat(joinedPartitionList)\n",
    "    resultDF = resultDF.drop('hashKEY',axis=1)\n",
    "    \n",
    "    return resultDF"
   ]
  },
  {
   "cell_type": "code",
   "execution_count": 10,
   "id": "c673fb03-9af1-4a6a-a979-028fb7e7c607",
   "metadata": {
    "tags": []
   },
   "outputs": [],
   "source": [
    "#Hash Join Results\n",
    "startTime = time.time()\n",
    "#hash merge join between dataframes \n",
    "followsObjectAndFriendOfSubject_HJDF = hashJoin(dictionaryDF['follows'], 'object',dictionaryDF['friendOf'], 'subject')\n",
    "\n",
    "likesObjectAndHasReviewSubject_HJDF = hashJoin(dictionaryDF['likes'], 'object',dictionaryDF['hasReview'], 'subject')\n",
    "\n",
    "friendsOfObjectAndLikesSubject_HJDF = hashJoin(followsObjectAndFriendOfSubject_HJDF, 'object_y',likesObjectAndHasReviewSubject_HJDF, 'subject_x')\n",
    "\n",
    "hashJoinAndQueryResultDF = friendsOfObjectAndLikesSubject_HJDF.loc[:,(\"subject_x_x\",\"object_x_x\",\"object_y_x\",\"object_x_y\",\"object_y_y\")]\n",
    "hashJoinAndQueryResultDF.rename(columns = {'subject_x_x':'Follows Subject',\n",
    "                                       'object_x_x':'Follows Object',\n",
    "                                       'object_y_x':'FriendOf Object',\n",
    "                                       'object_x_y':'Likes Object',\n",
    "                                       'object_y_y':' HasReview Object'}, inplace = True)\n",
    "                               \n",
    "endTime = time.time()"
   ]
  },
  {
   "cell_type": "code",
   "execution_count": 11,
   "id": "a9f924fb-a0d3-4724-b0db-90ec1bd0e63e",
   "metadata": {},
   "outputs": [
    {
     "name": "stdout",
     "output_type": "stream",
     "text": [
      "The execution time cost for hash join: 35.49708700180054 in seconds\n"
     ]
    }
   ],
   "source": [
    "print(\"The execution time cost for hash join: %s in seconds\" %(endTime-startTime))"
   ]
  },
  {
   "cell_type": "code",
   "execution_count": 12,
   "id": "66aae9c0-b851-48dc-8a27-a2cc202c494f",
   "metadata": {
    "tags": []
   },
   "outputs": [
    {
     "data": {
      "text/html": [
       "<div>\n",
       "<style scoped>\n",
       "    .dataframe tbody tr th:only-of-type {\n",
       "        vertical-align: middle;\n",
       "    }\n",
       "\n",
       "    .dataframe tbody tr th {\n",
       "        vertical-align: top;\n",
       "    }\n",
       "\n",
       "    .dataframe thead th {\n",
       "        text-align: right;\n",
       "    }\n",
       "</style>\n",
       "<table border=\"1\" class=\"dataframe\">\n",
       "  <thead>\n",
       "    <tr style=\"text-align: right;\">\n",
       "      <th></th>\n",
       "      <th>Follows Subject</th>\n",
       "      <th>Follows Object</th>\n",
       "      <th>FriendOf Object</th>\n",
       "      <th>Likes Object</th>\n",
       "      <th>HasReview Object</th>\n",
       "    </tr>\n",
       "  </thead>\n",
       "  <tbody>\n",
       "    <tr>\n",
       "      <th>0</th>\n",
       "      <td>User630</td>\n",
       "      <td>User9</td>\n",
       "      <td>User20</td>\n",
       "      <td>Product0</td>\n",
       "      <td>Review24</td>\n",
       "    </tr>\n",
       "    <tr>\n",
       "      <th>1</th>\n",
       "      <td>User26</td>\n",
       "      <td>User57</td>\n",
       "      <td>User20</td>\n",
       "      <td>Product0</td>\n",
       "      <td>Review24</td>\n",
       "    </tr>\n",
       "    <tr>\n",
       "      <th>2</th>\n",
       "      <td>User197</td>\n",
       "      <td>User57</td>\n",
       "      <td>User20</td>\n",
       "      <td>Product0</td>\n",
       "      <td>Review24</td>\n",
       "    </tr>\n",
       "    <tr>\n",
       "      <th>3</th>\n",
       "      <td>User351</td>\n",
       "      <td>User57</td>\n",
       "      <td>User20</td>\n",
       "      <td>Product0</td>\n",
       "      <td>Review24</td>\n",
       "    </tr>\n",
       "    <tr>\n",
       "      <th>4</th>\n",
       "      <td>User396</td>\n",
       "      <td>User57</td>\n",
       "      <td>User20</td>\n",
       "      <td>Product0</td>\n",
       "      <td>Review24</td>\n",
       "    </tr>\n",
       "  </tbody>\n",
       "</table>\n",
       "</div>"
      ],
      "text/plain": [
       "  Follows Subject Follows Object FriendOf Object Likes Object   \n",
       "0         User630          User9          User20     Product0  \\\n",
       "1          User26         User57          User20     Product0   \n",
       "2         User197         User57          User20     Product0   \n",
       "3         User351         User57          User20     Product0   \n",
       "4         User396         User57          User20     Product0   \n",
       "\n",
       "   HasReview Object  \n",
       "0          Review24  \n",
       "1          Review24  \n",
       "2          Review24  \n",
       "3          Review24  \n",
       "4          Review24  "
      ]
     },
     "execution_count": 12,
     "metadata": {},
     "output_type": "execute_result"
    }
   ],
   "source": [
    "hashJoinAndQueryResultDF.head()"
   ]
  },
  {
   "cell_type": "code",
   "execution_count": 13,
   "id": "0cfa850a-1d8e-4e34-ae1f-8ebc6b5c342f",
   "metadata": {
    "tags": []
   },
   "outputs": [],
   "source": [
    "#c Improve the hashing function\n",
    "#Hash-Join function based on keys\n",
    "def improvedHashJoins(dataF1, key1, dataF2, key2):\n",
    "    dataF1[\"hashKEY\"] = dataF1[key1].apply(hash)\n",
    "    dataF2[\"hashKEY\"] = dataF2[key2].apply(hash)\n",
    "    #group by 'hashKEY' on data frame 1\n",
    "    dataF1Partitions = dict(tuple(dataF1.groupby('hashKEY')))\n",
    "    for key in dataF1Partitions:\n",
    "        dataF1Partitions[key].reset_index(drop = True, inplace = True)\n",
    "    #group by 'hashKEY' on data frame 2\n",
    "    dataF2Partitions = dict(tuple(dataF2.groupby('hashKEY')))\n",
    "    for key in dataF2Partitions:\n",
    "        #reset index to perform correct merge\n",
    "        dataF2Partitions[key].reset_index(drop = True, inplace = True)\n",
    "  \n",
    "    outputAsList = []\n",
    "    \n",
    "    for key2 in dataF2Partitions:\n",
    "        for key1 in dataF1Partitions:\n",
    "            #if the key matches merge the two dataframes on left join with key 'hashKey'\n",
    "             if key1==key2:\n",
    "                    mergedPartitions=pd.merge(dataF1Partitions[key1], dataF2Partitions[key2], on='hashKEY', how='left')\n",
    "                    outputAsList.append(mergedPartitions.to_dict('list'))\n",
    "    \n",
    "    joinedPartitionList = []\n",
    "    for dictionary in outputAsList:\n",
    "        joinedPartitionList.append(pd.DataFrame(dictionary))\n",
    "    \n",
    "    resultDF = pd.concat(joinedPartitionList)\n",
    "    resultDF = resultDF.drop('hashKEY',axis=1)\n",
    "    \n",
    "    return resultDF"
   ]
  },
  {
   "cell_type": "code",
   "execution_count": 14,
   "id": "81505fc5-b75c-4e03-8d05-eadc0ad02977",
   "metadata": {
    "tags": []
   },
   "outputs": [],
   "source": [
    "#Improved Hash Join Results\n",
    "startTime = time.time()\n",
    "#hash merge join between dataframes \n",
    "followsObjectAndFriendOfSubject_HJDF = improvedHashJoins(dictionaryDF['follows'], 'object',dictionaryDF['friendOf'], 'subject')\n",
    "\n",
    "likesObjectAndHasReviewSubject_HJDF = improvedHashJoins(dictionaryDF['likes'], 'object',dictionaryDF['hasReview'], 'subject')\n",
    "\n",
    "friendsOfObjectAndLikesSubject_HJDF = improvedHashJoins(followsObjectAndFriendOfSubject_HJDF, 'object_y',likesObjectAndHasReviewSubject_HJDF, 'subject_x')\n",
    "\n",
    "hashJoinAndQueryResultDF = friendsOfObjectAndLikesSubject_HJDF.loc[:,(\"subject_x_x\",\"object_x_x\",\"object_y_x\",\"object_x_y\",\"object_y_y\")]\n",
    "hashJoinAndQueryResultDF.rename(columns = {'subject_x_x': 'follows.subject',\n",
    "                                          'object_x_x': 'follows.object',\n",
    "                                          'object_y_x': 'friendOf.object',\n",
    "                                          'object_x_y': 'likes.object',\n",
    "                                          'object_y_y': 'hasReview.object'}, inplace = True)\n",
    "                               \n",
    "endTime = time.time()"
   ]
  },
  {
   "cell_type": "code",
   "execution_count": 16,
   "id": "11dc79c7-4be5-487d-8ab4-c29eab1821d9",
   "metadata": {
    "tags": []
   },
   "outputs": [
    {
     "name": "stdout",
     "output_type": "stream",
     "text": [
      "The execution time cost of improved hash merge join 4.0191123485565186 seconds\n"
     ]
    }
   ],
   "source": [
    "print(\"The execution time cost of improved hash merge join %s seconds\"%(endTime-startTime))"
   ]
  },
  {
   "cell_type": "code",
   "execution_count": 17,
   "id": "c76b1617-da03-467d-ab0d-3745f632cad3",
   "metadata": {},
   "outputs": [
    {
     "data": {
      "text/html": [
       "<div>\n",
       "<style scoped>\n",
       "    .dataframe tbody tr th:only-of-type {\n",
       "        vertical-align: middle;\n",
       "    }\n",
       "\n",
       "    .dataframe tbody tr th {\n",
       "        vertical-align: top;\n",
       "    }\n",
       "\n",
       "    .dataframe thead th {\n",
       "        text-align: right;\n",
       "    }\n",
       "</style>\n",
       "<table border=\"1\" class=\"dataframe\">\n",
       "  <thead>\n",
       "    <tr style=\"text-align: right;\">\n",
       "      <th></th>\n",
       "      <th>follows.subject</th>\n",
       "      <th>follows.object</th>\n",
       "      <th>friendOf.object</th>\n",
       "      <th>likes.object</th>\n",
       "      <th>hasReview.object</th>\n",
       "    </tr>\n",
       "  </thead>\n",
       "  <tbody>\n",
       "    <tr>\n",
       "      <th>0</th>\n",
       "      <td>User25</td>\n",
       "      <td>User670</td>\n",
       "      <td>User296</td>\n",
       "      <td>Product0</td>\n",
       "      <td>Review24</td>\n",
       "    </tr>\n",
       "    <tr>\n",
       "      <th>1</th>\n",
       "      <td>User25</td>\n",
       "      <td>User670</td>\n",
       "      <td>User296</td>\n",
       "      <td>Product0</td>\n",
       "      <td>Review48</td>\n",
       "    </tr>\n",
       "    <tr>\n",
       "      <th>2</th>\n",
       "      <td>User25</td>\n",
       "      <td>User670</td>\n",
       "      <td>User296</td>\n",
       "      <td>Product0</td>\n",
       "      <td>Review118</td>\n",
       "    </tr>\n",
       "    <tr>\n",
       "      <th>3</th>\n",
       "      <td>User25</td>\n",
       "      <td>User670</td>\n",
       "      <td>User296</td>\n",
       "      <td>Product0</td>\n",
       "      <td>Review215</td>\n",
       "    </tr>\n",
       "    <tr>\n",
       "      <th>4</th>\n",
       "      <td>User25</td>\n",
       "      <td>User670</td>\n",
       "      <td>User296</td>\n",
       "      <td>Product0</td>\n",
       "      <td>Review247</td>\n",
       "    </tr>\n",
       "  </tbody>\n",
       "</table>\n",
       "</div>"
      ],
      "text/plain": [
       "  follows.subject follows.object friendOf.object likes.object hasReview.object\n",
       "0          User25        User670         User296     Product0         Review24\n",
       "1          User25        User670         User296     Product0         Review48\n",
       "2          User25        User670         User296     Product0        Review118\n",
       "3          User25        User670         User296     Product0        Review215\n",
       "4          User25        User670         User296     Product0        Review247"
      ]
     },
     "execution_count": 17,
     "metadata": {},
     "output_type": "execute_result"
    }
   ],
   "source": [
    "hashJoinAndQueryResultDF.head()"
   ]
  }
 ],
 "metadata": {
  "kernelspec": {
   "display_name": "Python 3 (ipykernel)",
   "language": "python",
   "name": "python3"
  },
  "language_info": {
   "codemirror_mode": {
    "name": "ipython",
    "version": 3
   },
   "file_extension": ".py",
   "mimetype": "text/x-python",
   "name": "python",
   "nbconvert_exporter": "python",
   "pygments_lexer": "ipython3",
   "version": "3.10.10"
  }
 },
 "nbformat": 4,
 "nbformat_minor": 5
}
